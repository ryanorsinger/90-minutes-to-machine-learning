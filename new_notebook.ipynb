{
 "cells": [
  {
   "cell_type": "markdown",
   "metadata": {},
   "source": [
    "# 90 Minutes To Machine Learning\n",
    "\n",
    "## Why are we here?\n",
    "1. Intro to the Codeup experience\n",
    "2. Big Picture overview of Data Science\n",
    "3. Intro to Machine Learning covering:\n",
    "    - Data visualization\n",
    "    - Python ML libraries\n",
    "    - Building a predictive model\n",
    "    - Evaluating how well a predictive model performs\n",
    "\n",
    "## Why Codeup?\n",
    "- Focus on student outcomes\n",
    "- Placement services and quality of network\n",
    "- Immersion works. Full-time, live instruction for 5 months works.\n",
    "- Projects simulate the work environment from real world data to presenting findings to stakeholders\n",
    "\n",
    "## What is Data Science?\n",
    "- Interdisciplinary applied science intersecting programming, statistics, and domain expertise\n",
    "- The application of the scientific method of hypothesis -> experiment -> analyze -> repeat to analyze and infer outcomes from data.\n",
    "- A broad description of approaches ranging from business analysis and visualizations to machine learning and deep neural network analysis.\n",
    "![](drawn_ds_venn_diagram.png)\n",
    "\n",
    "## What is Machine Learning?\n",
    "- Machine Learning is the process of using previous data as the fuel for determining rules for making predictions of outcomes from future data.\n",
    "-  Classical programming takes business rules and data to produce answers. Ex. TurboTax software.\n",
    "- Machine learning takes in data (and sometimes answers/labels for some data) and produces rules or predictions for future data. The example here is text message autocomplete.\n",
    "\n",
    "<img src=\"classical_programming_vs_machine_learning.jpeg\" width=500>\n",
    "\n",
    "\n",
    "## Where does Machine Learning Fit Into Data Science?\n",
    "\n",
    "![](example_data_science_project.png)\n",
    "\n",
    "##### The Data Science Pipeline:\n",
    "- Planning\n",
    "- Data Acquisition\n",
    "- Data Cleaning\n",
    "- Exploratory Data Analysis (visualization, hypothesis testing)\n",
    "- Modeling\n",
    "- Presenting Findings\n",
    "\n",
    "## Types of Machine Learning and Other Skills Covered in Codeup\n",
    "![](machine_learning_methods.png)\n",
    "\n",
    "## Challenges of Machine Learning\n",
    "- Garbage in, garbage out\n",
    "- Insufficient quantity of data\n",
    "- Nonrepresentative data\n",
    "- Poor quality data\n",
    "- Overfitting or underfitting\n",
    "- Bias in, bias out\n"
   ]
  },
  {
   "cell_type": "code",
   "execution_count": 4,
   "metadata": {},
   "outputs": [],
   "source": [
    "# Data Processing and Data Cleaning Libraries\n",
    "import pandas as pd\n",
    "import numpy as np\n",
    "\n",
    "# Vizualization Libraries\n",
    "import matplotlib.pyplot as plt\n",
    "import seaborn as sns\n",
    "\n",
    "# sklearn preprocessing\n",
    "from sklearn.model_selection import train_test_split\n",
    "\n",
    "# modeling\n",
    "from sklearn.tree import DecisionTreeClassifier\n",
    "from sklearn.ensemble import RandomForestClassifier\n",
    "\n",
    "# model evaluation\n",
    "from sklearn.metrics import classification_report"
   ]
  },
  {
   "cell_type": "code",
   "execution_count": 5,
   "metadata": {},
   "outputs": [],
   "source": [
    "def split(df, stratify_by=None):\n",
    "    \"\"\"\n",
    "    3 way split for train, validate, and test datasets\n",
    "    To stratify, send in a column name\n",
    "    \"\"\"\n",
    "    \n",
    "    if stratify_by == None:\n",
    "        train, test = train_test_split(df, test_size=.2, random_state=123)\n",
    "        train, validate = train_test_split(df, test_size=.3, random_state=123)\n",
    "    else:\n",
    "        train, test = train_test_split(df, test_size=.2, random_state=123, stratify=df[stratify_by])\n",
    "        train, validate = train_test_split(df, test_size=.3, random_state=123, stratify=train[stratify_by])\n",
    "    \n",
    "    return train, validate, test"
   ]
  },
  {
   "cell_type": "code",
   "execution_count": 21,
   "metadata": {},
   "outputs": [
    {
     "data": {
      "text/html": [
       "<div>\n",
       "<style scoped>\n",
       "    .dataframe tbody tr th:only-of-type {\n",
       "        vertical-align: middle;\n",
       "    }\n",
       "\n",
       "    .dataframe tbody tr th {\n",
       "        vertical-align: top;\n",
       "    }\n",
       "\n",
       "    .dataframe thead th {\n",
       "        text-align: right;\n",
       "    }\n",
       "</style>\n",
       "<table border=\"1\" class=\"dataframe\">\n",
       "  <thead>\n",
       "    <tr style=\"text-align: right;\">\n",
       "      <th></th>\n",
       "      <th>0</th>\n",
       "      <th>1</th>\n",
       "      <th>2</th>\n",
       "    </tr>\n",
       "  </thead>\n",
       "  <tbody>\n",
       "    <tr>\n",
       "      <th>Age</th>\n",
       "      <td>41</td>\n",
       "      <td>49</td>\n",
       "      <td>37</td>\n",
       "    </tr>\n",
       "    <tr>\n",
       "      <th>Attrition</th>\n",
       "      <td>Yes</td>\n",
       "      <td>No</td>\n",
       "      <td>Yes</td>\n",
       "    </tr>\n",
       "    <tr>\n",
       "      <th>BusinessTravel</th>\n",
       "      <td>Travel_Rarely</td>\n",
       "      <td>Travel_Frequently</td>\n",
       "      <td>Travel_Rarely</td>\n",
       "    </tr>\n",
       "    <tr>\n",
       "      <th>DailyRate</th>\n",
       "      <td>1102</td>\n",
       "      <td>279</td>\n",
       "      <td>1373</td>\n",
       "    </tr>\n",
       "    <tr>\n",
       "      <th>Department</th>\n",
       "      <td>Sales</td>\n",
       "      <td>Research &amp; Development</td>\n",
       "      <td>Research &amp; Development</td>\n",
       "    </tr>\n",
       "    <tr>\n",
       "      <th>DistanceFromHome</th>\n",
       "      <td>1</td>\n",
       "      <td>8</td>\n",
       "      <td>2</td>\n",
       "    </tr>\n",
       "    <tr>\n",
       "      <th>Education</th>\n",
       "      <td>2</td>\n",
       "      <td>1</td>\n",
       "      <td>2</td>\n",
       "    </tr>\n",
       "    <tr>\n",
       "      <th>EducationField</th>\n",
       "      <td>Life Sciences</td>\n",
       "      <td>Life Sciences</td>\n",
       "      <td>Other</td>\n",
       "    </tr>\n",
       "    <tr>\n",
       "      <th>EmployeeCount</th>\n",
       "      <td>1</td>\n",
       "      <td>1</td>\n",
       "      <td>1</td>\n",
       "    </tr>\n",
       "    <tr>\n",
       "      <th>EmployeeNumber</th>\n",
       "      <td>1</td>\n",
       "      <td>2</td>\n",
       "      <td>4</td>\n",
       "    </tr>\n",
       "    <tr>\n",
       "      <th>EnvironmentSatisfaction</th>\n",
       "      <td>2</td>\n",
       "      <td>3</td>\n",
       "      <td>4</td>\n",
       "    </tr>\n",
       "    <tr>\n",
       "      <th>Gender</th>\n",
       "      <td>Female</td>\n",
       "      <td>Male</td>\n",
       "      <td>Male</td>\n",
       "    </tr>\n",
       "    <tr>\n",
       "      <th>HourlyRate</th>\n",
       "      <td>94</td>\n",
       "      <td>61</td>\n",
       "      <td>92</td>\n",
       "    </tr>\n",
       "    <tr>\n",
       "      <th>JobInvolvement</th>\n",
       "      <td>3</td>\n",
       "      <td>2</td>\n",
       "      <td>2</td>\n",
       "    </tr>\n",
       "    <tr>\n",
       "      <th>JobLevel</th>\n",
       "      <td>2</td>\n",
       "      <td>2</td>\n",
       "      <td>1</td>\n",
       "    </tr>\n",
       "    <tr>\n",
       "      <th>JobRole</th>\n",
       "      <td>Sales Executive</td>\n",
       "      <td>Research Scientist</td>\n",
       "      <td>Laboratory Technician</td>\n",
       "    </tr>\n",
       "    <tr>\n",
       "      <th>JobSatisfaction</th>\n",
       "      <td>4</td>\n",
       "      <td>2</td>\n",
       "      <td>3</td>\n",
       "    </tr>\n",
       "    <tr>\n",
       "      <th>MaritalStatus</th>\n",
       "      <td>Single</td>\n",
       "      <td>Married</td>\n",
       "      <td>Single</td>\n",
       "    </tr>\n",
       "    <tr>\n",
       "      <th>MonthlyIncome</th>\n",
       "      <td>5993</td>\n",
       "      <td>5130</td>\n",
       "      <td>2090</td>\n",
       "    </tr>\n",
       "    <tr>\n",
       "      <th>MonthlyRate</th>\n",
       "      <td>19479</td>\n",
       "      <td>24907</td>\n",
       "      <td>2396</td>\n",
       "    </tr>\n",
       "    <tr>\n",
       "      <th>NumCompaniesWorked</th>\n",
       "      <td>8</td>\n",
       "      <td>1</td>\n",
       "      <td>6</td>\n",
       "    </tr>\n",
       "    <tr>\n",
       "      <th>Over18</th>\n",
       "      <td>Y</td>\n",
       "      <td>Y</td>\n",
       "      <td>Y</td>\n",
       "    </tr>\n",
       "    <tr>\n",
       "      <th>OverTime</th>\n",
       "      <td>Yes</td>\n",
       "      <td>No</td>\n",
       "      <td>Yes</td>\n",
       "    </tr>\n",
       "    <tr>\n",
       "      <th>PercentSalaryHike</th>\n",
       "      <td>11</td>\n",
       "      <td>23</td>\n",
       "      <td>15</td>\n",
       "    </tr>\n",
       "    <tr>\n",
       "      <th>PerformanceRating</th>\n",
       "      <td>3</td>\n",
       "      <td>4</td>\n",
       "      <td>3</td>\n",
       "    </tr>\n",
       "    <tr>\n",
       "      <th>RelationshipSatisfaction</th>\n",
       "      <td>1</td>\n",
       "      <td>4</td>\n",
       "      <td>2</td>\n",
       "    </tr>\n",
       "    <tr>\n",
       "      <th>StandardHours</th>\n",
       "      <td>80</td>\n",
       "      <td>80</td>\n",
       "      <td>80</td>\n",
       "    </tr>\n",
       "    <tr>\n",
       "      <th>StockOptionLevel</th>\n",
       "      <td>0</td>\n",
       "      <td>1</td>\n",
       "      <td>0</td>\n",
       "    </tr>\n",
       "    <tr>\n",
       "      <th>TotalWorkingYears</th>\n",
       "      <td>8</td>\n",
       "      <td>10</td>\n",
       "      <td>7</td>\n",
       "    </tr>\n",
       "    <tr>\n",
       "      <th>TrainingTimesLastYear</th>\n",
       "      <td>0</td>\n",
       "      <td>3</td>\n",
       "      <td>3</td>\n",
       "    </tr>\n",
       "    <tr>\n",
       "      <th>WorkLifeBalance</th>\n",
       "      <td>1</td>\n",
       "      <td>3</td>\n",
       "      <td>3</td>\n",
       "    </tr>\n",
       "    <tr>\n",
       "      <th>YearsAtCompany</th>\n",
       "      <td>6</td>\n",
       "      <td>10</td>\n",
       "      <td>0</td>\n",
       "    </tr>\n",
       "    <tr>\n",
       "      <th>YearsInCurrentRole</th>\n",
       "      <td>4</td>\n",
       "      <td>7</td>\n",
       "      <td>0</td>\n",
       "    </tr>\n",
       "    <tr>\n",
       "      <th>YearsSinceLastPromotion</th>\n",
       "      <td>0</td>\n",
       "      <td>1</td>\n",
       "      <td>0</td>\n",
       "    </tr>\n",
       "    <tr>\n",
       "      <th>YearsWithCurrManager</th>\n",
       "      <td>5</td>\n",
       "      <td>7</td>\n",
       "      <td>0</td>\n",
       "    </tr>\n",
       "  </tbody>\n",
       "</table>\n",
       "</div>"
      ],
      "text/plain": [
       "                                        0                       1  \\\n",
       "Age                                    41                      49   \n",
       "Attrition                             Yes                      No   \n",
       "BusinessTravel              Travel_Rarely       Travel_Frequently   \n",
       "DailyRate                            1102                     279   \n",
       "Department                          Sales  Research & Development   \n",
       "DistanceFromHome                        1                       8   \n",
       "Education                               2                       1   \n",
       "EducationField              Life Sciences           Life Sciences   \n",
       "EmployeeCount                           1                       1   \n",
       "EmployeeNumber                          1                       2   \n",
       "EnvironmentSatisfaction                 2                       3   \n",
       "Gender                             Female                    Male   \n",
       "HourlyRate                             94                      61   \n",
       "JobInvolvement                          3                       2   \n",
       "JobLevel                                2                       2   \n",
       "JobRole                   Sales Executive      Research Scientist   \n",
       "JobSatisfaction                         4                       2   \n",
       "MaritalStatus                      Single                 Married   \n",
       "MonthlyIncome                        5993                    5130   \n",
       "MonthlyRate                         19479                   24907   \n",
       "NumCompaniesWorked                      8                       1   \n",
       "Over18                                  Y                       Y   \n",
       "OverTime                              Yes                      No   \n",
       "PercentSalaryHike                      11                      23   \n",
       "PerformanceRating                       3                       4   \n",
       "RelationshipSatisfaction                1                       4   \n",
       "StandardHours                          80                      80   \n",
       "StockOptionLevel                        0                       1   \n",
       "TotalWorkingYears                       8                      10   \n",
       "TrainingTimesLastYear                   0                       3   \n",
       "WorkLifeBalance                         1                       3   \n",
       "YearsAtCompany                          6                      10   \n",
       "YearsInCurrentRole                      4                       7   \n",
       "YearsSinceLastPromotion                 0                       1   \n",
       "YearsWithCurrManager                    5                       7   \n",
       "\n",
       "                                               2  \n",
       "Age                                           37  \n",
       "Attrition                                    Yes  \n",
       "BusinessTravel                     Travel_Rarely  \n",
       "DailyRate                                   1373  \n",
       "Department                Research & Development  \n",
       "DistanceFromHome                               2  \n",
       "Education                                      2  \n",
       "EducationField                             Other  \n",
       "EmployeeCount                                  1  \n",
       "EmployeeNumber                                 4  \n",
       "EnvironmentSatisfaction                        4  \n",
       "Gender                                      Male  \n",
       "HourlyRate                                    92  \n",
       "JobInvolvement                                 2  \n",
       "JobLevel                                       1  \n",
       "JobRole                    Laboratory Technician  \n",
       "JobSatisfaction                                3  \n",
       "MaritalStatus                             Single  \n",
       "MonthlyIncome                               2090  \n",
       "MonthlyRate                                 2396  \n",
       "NumCompaniesWorked                             6  \n",
       "Over18                                         Y  \n",
       "OverTime                                     Yes  \n",
       "PercentSalaryHike                             15  \n",
       "PerformanceRating                              3  \n",
       "RelationshipSatisfaction                       2  \n",
       "StandardHours                                 80  \n",
       "StockOptionLevel                               0  \n",
       "TotalWorkingYears                              7  \n",
       "TrainingTimesLastYear                          3  \n",
       "WorkLifeBalance                                3  \n",
       "YearsAtCompany                                 0  \n",
       "YearsInCurrentRole                             0  \n",
       "YearsSinceLastPromotion                        0  \n",
       "YearsWithCurrManager                           0  "
      ]
     },
     "execution_count": 21,
     "metadata": {},
     "output_type": "execute_result"
    }
   ],
   "source": [
    "df = pd.read_csv(\"attrition.csv\")\n",
    "df.head(3).T"
   ]
  },
  {
   "cell_type": "markdown",
   "metadata": {},
   "source": [
    "### Continuous Valued Features\n",
    "- Age\n",
    "- DailyRate\n",
    "- DistanceFromHome\n",
    "- HourlyRate\n",
    "- MonthlyIncome (is this a multiple of their rate * hours or something else?)\n",
    "- MonthlyRate\n",
    "- PercentSalaryHike\n",
    "- TotalWorkingYears\n",
    "- YearsAtCompany\n",
    "- YearsInCurrentRole\n",
    "- YearsSinceLastPromotion\n",
    "- YearsWithCurrManager\n",
    "\n",
    "## Categorical Features\n",
    "- Attrition (yes or no)\n",
    "- Gender (this data has a binary)\n",
    "- BusinessTravel (none, rarely, frequently)\n",
    "- Department (R&D, Sales, HR)\n",
    "- Education (1-5)\n",
    "- EducationField (6 categories)\n",
    "- EnvironmentSatisfaction (1-4)\n",
    "- JobInvolvement (1-4)\n",
    "- JobLevel (1 through 5)\n",
    "- JobRole (9 different job role names)\n",
    "- Job Satisfaction (1 - 4)\n",
    "- MaritalStatus (single, married, divorced)\n",
    "- NumCompaniesWorked\n",
    "- OverTime (yes or no)\n",
    "- PerformanceRating (3 or 4)\n",
    "- RelationshipSatisfaction (1 through 4)\n",
    "- StockOptionLevel (0 through 3)\n",
    "- TrainingTimesLastYear(0 through 6)\n",
    "- WorkLifeBalance (1 - 4)"
   ]
  },
  {
   "cell_type": "code",
   "execution_count": 18,
   "metadata": {},
   "outputs": [
    {
     "data": {
      "text/plain": [
       "<AxesSubplot:xlabel='Attrition', ylabel='MonthlyIncome'>"
      ]
     },
     "execution_count": 18,
     "metadata": {},
     "output_type": "execute_result"
    },
    {
     "data": {
      "image/png": "[encoded data removed]",
      "text/plain": [
       "<Figure size 432x288 with 1 Axes>"
      ]
     },
     "metadata": {
      "needs_background": "light"
     },
     "output_type": "display_data"
    }
   ],
   "source": [
    "sns.boxplot(x=df.Attrition, y=df.MonthlyIncome, data=df)"
   ]
  },
  {
   "cell_type": "code",
   "execution_count": 19,
   "metadata": {},
   "outputs": [
    {
     "data": {
      "text/plain": [
       "<AxesSubplot:xlabel='Attrition', ylabel='Age'>"
      ]
     },
     "execution_count": 19,
     "metadata": {},
     "output_type": "execute_result"
    },
    {
     "data": {
      "image/png": "[encoded data removed]",
      "text/plain": [
       "<Figure size 432x288 with 1 Axes>"
      ]
     },
     "metadata": {
      "needs_background": "light"
     },
     "output_type": "display_data"
    }
   ],
   "source": [
    "sns.boxplot(x=df.Attrition, y=df.Age, data=df)"
   ]
  },
  {
   "cell_type": "code",
   "execution_count": 20,
   "metadata": {},
   "outputs": [
    {
     "data": {
      "text/plain": [
       "<AxesSubplot:xlabel='Attrition', ylabel='DistanceFromHome'>"
      ]
     },
     "execution_count": 20,
     "metadata": {},
     "output_type": "execute_result"
    },
    {
     "data": {
      "image/png": "[encoded data removed]",
      "text/plain": [
       "<Figure size 432x288 with 1 Axes>"
      ]
     },
     "metadata": {
      "needs_background": "light"
     },
     "output_type": "display_data"
    }
   ],
   "source": [
    "sns.boxplot(x=df.Attrition, y=df.DistanceFromHome, data=df)"
   ]
  },
  {
   "cell_type": "code",
   "execution_count": 24,
   "metadata": {},
   "outputs": [
    {
     "data": {
      "text/plain": [
       "<AxesSubplot:xlabel='Attrition', ylabel='MonthlyIncome'>"
      ]
     },
     "execution_count": 24,
     "metadata": {},
     "output_type": "execute_result"
    },
    {
     "data": {
      "image/png": "[encoded data removed]",
      "text/plain": [
       "<Figure size 432x288 with 1 Axes>"
      ]
     },
     "metadata": {
      "needs_background": "light"
     },
     "output_type": "display_data"
    }
   ],
   "source": [
    "sns.boxplot(x=df.Attrition, y=df.MonthlyIncome, data=df)"
   ]
  },
  {
   "cell_type": "code",
   "execution_count": 26,
   "metadata": {},
   "outputs": [
    {
     "data": {
      "text/plain": [
       "<AxesSubplot:xlabel='Attrition', ylabel='MonthlyRate'>"
      ]
     },
     "execution_count": 26,
     "metadata": {},
     "output_type": "execute_result"
    },
    {
     "data": {
      "image/png": "[encoded data removed]",
      "text/plain": [
       "<Figure size 432x288 with 1 Axes>"
      ]
     },
     "metadata": {
      "needs_background": "light"
     },
     "output_type": "display_data"
    }
   ],
   "source": [
    "sns.boxplot(x=df.Attrition, y=df.MonthlyRate, data=df)"
   ]
  },
  {
   "cell_type": "markdown",
   "metadata": {},
   "source": [
    "## Homework"
   ]
  }
 ],
 "metadata": {
  "kernelspec": {
   "display_name": "Python 3",
   "language": "python",
   "name": "python3"
  },
  "language_info": {
   "codemirror_mode": {
    "name": "ipython",
    "version": 3
   },
   "file_extension": ".py",
   "mimetype": "text/x-python",
   "name": "python",
   "nbconvert_exporter": "python",
   "pygments_lexer": "ipython3",
   "version": "3.7.3"
  }
 },
 "nbformat": 4,
 "nbformat_minor": 4
}
