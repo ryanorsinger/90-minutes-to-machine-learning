{
 "cells": [
  {
   "cell_type": "markdown",
   "metadata": {},
   "source": [
    "# 90 Minutes To Machine Learning\n",
    "\n",
    "## Why are we here?\n",
    "1. Intro to the Codeup experience\n",
    "2. Big Picture overview of Data Science\n",
    "3. Intro to Machine Learning concepts and tools including:\n",
    "    - Data acquisition and preparation\n",
    "    - Data visualization\n",
    "        - \n",
    "    - Building a predictive model w/ Scikit-Learn\n",
    "    - Evaluating how well a predictive model performs\n",
    "\n",
    "## Why Codeup?\n",
    "- Focus on student outcomes\n",
    "- Placement services and quality of network\n",
    "- Immersion works. Full-time, live instruction for 5 months works.\n",
    "- Projects simulate the work environment from real world data to presenting findings to stakeholders\n",
    "\n",
    "## What is Data Science?\n",
    "- Interdisciplinary applied science intersecting programming, statistics, and domain expertise\n",
    "- The application of the scientific method of hypothesis -> experiment -> analyze -> repeat to analyze and infer outcomes from data.\n",
    "- A broad description of approaches ranging from business analysis and visualizations to machine learning and deep neural network analysis.\n",
    "![](drawn_ds_venn_diagram.png)\n",
    "\n",
    "## How Does Data Science Relate to Traditional Software and Data Analysis?\n",
    "![](data_science_venn_diagram_with_overlapping_disciplines.png)\n",
    "\n",
    "## What is Machine Learning?\n",
    "- Machine Learning is the process of using previous data as the fuel for determining rules for making predictions of outcomes from future data.\n",
    "-  Classical programming takes business rules and data to produce answers. Ex. TurboTax software.\n",
    "- Machine learning takes in data (and sometimes answers/labels for some data) and produces rules or predictions for future data. The example here is text message autocomplete.\n",
    "\n",
    "<img src=\"classical_programming_vs_machine_learning.jpeg\" width=500>\n",
    "\n",
    "## Where does Machine Learning Fit Into Data Science?\n",
    "\n",
    "![example data science pipepine and product](example_data_science_project.png)\n",
    "\n",
    "\n",
    "## Challenges of Machine Learning\n",
    "- Garbage in, garbage out\n",
    "- Insufficient quantity of data\n",
    "- Nonrepresentative data\n",
    "- Poor quality data\n",
    "- Overfitting or underfitting\n",
    "- Bias in, Bias out:\n",
    "    - [Cognitive Biases](https://en.wikipedia.org/wiki/List_of_cognitive_biases) arise from being human.\n",
    "    - [Statistical Biases](https://en.wikipedia.org/wiki/Bias_(statistics)) arise from our methodologies.\n",
    "- Whatever Machine Learning \"learns\", it will keep doing. There is no cognition or intelligence, only pattern recognition and optimization.\n",
    "\n",
    "## What kinds of questions can Data Science methods answer?\n",
    "- How Many or How Much of something (Regression)\n",
    "- Is this observation A or B, or C or D or E... (Classification)\n",
    "- What groupings exist in the data already (Clustering)\n",
    "- What should we expect to happen next? (Time Series Analysis)\n",
    "- Is this weird? (Anomaly Detection)\n",
    "\n",
    "## Types of Machine Learning and Other Skills Covered in Codeup\n",
    "![machine learning methods taught at Codeup](machine_learning_methods.png)\n",
    "\n",
    "## What kind of ML will we doing today?\n",
    "- We'll be using a decision tree classifier to predict whether or not we should expect employees to quit a company.\n",
    "- Classification machine learning is used all the time for such things as:\n",
    "    - Facial recognition\n",
    "    - Handwriting recognition and conversion to typed text\n",
    "    - Recommendation engines\n",
    "- Classification is a \"supervised learning\" type of machine learning. That means we train the algorithm on existing data to learn a rule, a recognized pattern, to apply to future data.\n",
    "\n",
    "## How does a decision tree work:\n",
    "- Decision Trees work like playing 20 questions. \n",
    "- Classification algorithms use training data to measure the distance between points or the distance around boundaries between points.\n",
    "- By \"learning\" the pattern recognition around sets of points, the classifier produces a \"decision rule\" to use to apply to classify new incoming data.\n",
    "\n",
    "#### Consider this diagram of a decision tree\n",
    "![decision tree diagram](decision_tree_diagram.png)"
   ]
  },
  {
   "cell_type": "code",
   "execution_count": 1,
   "metadata": {},
   "outputs": [],
   "source": [
    "# Data Processing and Data Cleaning Libraries\n",
    "import pandas as pd\n",
    "import numpy as np\n",
    "\n",
    "# Vizualization Libraries\n",
    "import matplotlib.pyplot as plt\n",
    "import seaborn as sns\n",
    "\n",
    "# sklearn preprocessing\n",
    "from sklearn.model_selection import train_test_split\n",
    "\n",
    "# modeling\n",
    "from sklearn.tree import DecisionTreeClassifier\n",
    "from sklearn.ensemble import RandomForestClassifier\n",
    "\n",
    "# model evaluation\n",
    "from sklearn.metrics import classification_report"
   ]
  },
  {
   "cell_type": "code",
   "execution_count": 2,
   "metadata": {},
   "outputs": [],
   "source": [
    "def split(df, stratify_by=None):\n",
    "    \"\"\"\n",
    "    3 way split for train, validate, and test datasets\n",
    "    To stratify, send in a column name\n",
    "    \"\"\"\n",
    "    \n",
    "    if stratify_by == None:\n",
    "        train, test = train_test_split(df, test_size=.2, random_state=123)\n",
    "        train, validate = train_test_split(df, test_size=.3, random_state=123)\n",
    "    else:\n",
    "        train, test = train_test_split(df, test_size=.2, random_state=123, stratify=df[stratify_by])\n",
    "        train, validate = train_test_split(df, test_size=.3, random_state=123, stratify=train[stratify_by])\n",
    "    \n",
    "    return train, validate, test"
   ]
  },
  {
   "cell_type": "code",
   "execution_count": 3,
   "metadata": {},
   "outputs": [
    {
     "data": {
      "text/html": [
       "<div>\n",
       "<style scoped>\n",
       "    .dataframe tbody tr th:only-of-type {\n",
       "        vertical-align: middle;\n",
       "    }\n",
       "\n",
       "    .dataframe tbody tr th {\n",
       "        vertical-align: top;\n",
       "    }\n",
       "\n",
       "    .dataframe thead th {\n",
       "        text-align: right;\n",
       "    }\n",
       "</style>\n",
       "<table border=\"1\" class=\"dataframe\">\n",
       "  <thead>\n",
       "    <tr style=\"text-align: right;\">\n",
       "      <th></th>\n",
       "      <th>Unnamed: 0</th>\n",
       "      <th>Attrition</th>\n",
       "      <th>Age</th>\n",
       "      <th>MonthlyIncome</th>\n",
       "      <th>Gender</th>\n",
       "      <th>Education</th>\n",
       "      <th>WorkLifeBalance</th>\n",
       "      <th>JobSatisfaction</th>\n",
       "      <th>PercentSalaryHike</th>\n",
       "      <th>BusinessTravel</th>\n",
       "    </tr>\n",
       "  </thead>\n",
       "  <tbody>\n",
       "    <tr>\n",
       "      <th>0</th>\n",
       "      <td>0</td>\n",
       "      <td>Yes</td>\n",
       "      <td>41</td>\n",
       "      <td>5993</td>\n",
       "      <td>Female</td>\n",
       "      <td>2</td>\n",
       "      <td>1</td>\n",
       "      <td>4</td>\n",
       "      <td>11</td>\n",
       "      <td>Travel_Rarely</td>\n",
       "    </tr>\n",
       "    <tr>\n",
       "      <th>1</th>\n",
       "      <td>1</td>\n",
       "      <td>No</td>\n",
       "      <td>49</td>\n",
       "      <td>5130</td>\n",
       "      <td>Male</td>\n",
       "      <td>1</td>\n",
       "      <td>3</td>\n",
       "      <td>2</td>\n",
       "      <td>23</td>\n",
       "      <td>Travel_Frequently</td>\n",
       "    </tr>\n",
       "    <tr>\n",
       "      <th>2</th>\n",
       "      <td>2</td>\n",
       "      <td>Yes</td>\n",
       "      <td>37</td>\n",
       "      <td>2090</td>\n",
       "      <td>Male</td>\n",
       "      <td>2</td>\n",
       "      <td>3</td>\n",
       "      <td>3</td>\n",
       "      <td>15</td>\n",
       "      <td>Travel_Rarely</td>\n",
       "    </tr>\n",
       "    <tr>\n",
       "      <th>3</th>\n",
       "      <td>3</td>\n",
       "      <td>No</td>\n",
       "      <td>33</td>\n",
       "      <td>2909</td>\n",
       "      <td>Female</td>\n",
       "      <td>4</td>\n",
       "      <td>3</td>\n",
       "      <td>3</td>\n",
       "      <td>11</td>\n",
       "      <td>Travel_Frequently</td>\n",
       "    </tr>\n",
       "    <tr>\n",
       "      <th>4</th>\n",
       "      <td>4</td>\n",
       "      <td>No</td>\n",
       "      <td>27</td>\n",
       "      <td>3468</td>\n",
       "      <td>Male</td>\n",
       "      <td>1</td>\n",
       "      <td>3</td>\n",
       "      <td>2</td>\n",
       "      <td>12</td>\n",
       "      <td>Travel_Rarely</td>\n",
       "    </tr>\n",
       "  </tbody>\n",
       "</table>\n",
       "</div>"
      ],
      "text/plain": [
       "   Unnamed: 0 Attrition  Age  MonthlyIncome  Gender  Education  \\\n",
       "0           0       Yes   41           5993  Female          2   \n",
       "1           1        No   49           5130    Male          1   \n",
       "2           2       Yes   37           2090    Male          2   \n",
       "3           3        No   33           2909  Female          4   \n",
       "4           4        No   27           3468    Male          1   \n",
       "\n",
       "   WorkLifeBalance  JobSatisfaction  PercentSalaryHike     BusinessTravel  \n",
       "0                1                4                 11      Travel_Rarely  \n",
       "1                3                2                 23  Travel_Frequently  \n",
       "2                3                3                 15      Travel_Rarely  \n",
       "3                3                3                 11  Travel_Frequently  \n",
       "4                3                2                 12      Travel_Rarely  "
      ]
     },
     "execution_count": 3,
     "metadata": {},
     "output_type": "execute_result"
    }
   ],
   "source": [
    "pd.read_csv(\"data.csv\").head()"
   ]
  },
  {
   "cell_type": "markdown",
   "metadata": {},
   "source": []
  },
  {
   "cell_type": "code",
   "execution_count": 4,
   "metadata": {},
   "outputs": [
    {
     "ename": "NameError",
     "evalue": "name 'df' is not defined",
     "output_type": "error",
     "traceback": [
      "\u001b[0;31m---------------------------------------------------------------------------\u001b[0m",
      "\u001b[0;31mNameError\u001b[0m                                 Traceback (most recent call last)",
      "\u001b[0;32m<ipython-input-4-6c862a829f39>\u001b[0m in \u001b[0;36m<module>\u001b[0;34m\u001b[0m\n\u001b[0;32m----> 1\u001b[0;31m \u001b[0msns\u001b[0m\u001b[0;34m.\u001b[0m\u001b[0mboxplot\u001b[0m\u001b[0;34m(\u001b[0m\u001b[0mx\u001b[0m\u001b[0;34m=\u001b[0m\u001b[0mdf\u001b[0m\u001b[0;34m.\u001b[0m\u001b[0mAttrition\u001b[0m\u001b[0;34m,\u001b[0m \u001b[0my\u001b[0m\u001b[0;34m=\u001b[0m\u001b[0mdf\u001b[0m\u001b[0;34m.\u001b[0m\u001b[0mMonthlyIncome\u001b[0m\u001b[0;34m,\u001b[0m \u001b[0mdata\u001b[0m\u001b[0;34m=\u001b[0m\u001b[0mdf\u001b[0m\u001b[0;34m)\u001b[0m\u001b[0;34m\u001b[0m\u001b[0;34m\u001b[0m\u001b[0m\n\u001b[0m",
      "\u001b[0;31mNameError\u001b[0m: name 'df' is not defined"
     ]
    }
   ],
   "source": [
    "sns.boxplot(x=df.Attrition, y=df.MonthlyIncome, data=df)"
   ]
  },
  {
   "cell_type": "code",
   "execution_count": null,
   "metadata": {},
   "outputs": [],
   "source": [
    "sns.boxplot(x=df.Attrition, y=df.Age, data=df)"
   ]
  },
  {
   "cell_type": "code",
   "execution_count": null,
   "metadata": {},
   "outputs": [],
   "source": [
    "sns.boxplot(x=df.Attrition, y=df.DistanceFromHome, data=df)"
   ]
  },
  {
   "cell_type": "code",
   "execution_count": null,
   "metadata": {},
   "outputs": [],
   "source": [
    "sns.boxplot(x=df.Attrition, y=df.MonthlyIncome, data=df)"
   ]
  },
  {
   "cell_type": "code",
   "execution_count": null,
   "metadata": {},
   "outputs": [],
   "source": [
    "sns.boxplot(x=df.Attrition, y=df.NumCompaniesWorked, data=df)"
   ]
  },
  {
   "cell_type": "markdown",
   "metadata": {},
   "source": [
    "## Homework"
   ]
  }
 ],
 "metadata": {
  "kernelspec": {
   "display_name": "Python 3",
   "language": "python",
   "name": "python3"
  },
  "language_info": {
   "codemirror_mode": {
    "name": "ipython",
    "version": 3
   },
   "file_extension": ".py",
   "mimetype": "text/x-python",
   "name": "python",
   "nbconvert_exporter": "python",
   "pygments_lexer": "ipython3",
   "version": "3.7.3"
  }
 },
 "nbformat": 4,
 "nbformat_minor": 4
}
